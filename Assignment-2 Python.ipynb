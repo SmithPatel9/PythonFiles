{
 "cells": [
  {
   "cell_type": "markdown",
   "metadata": {},
   "source": [
    "# Assignment-2"
   ]
  },
  {
   "cell_type": "markdown",
   "metadata": {},
   "source": [
    "## Task 1:"
   ]
  },
  {
   "cell_type": "markdown",
   "metadata": {},
   "source": [
    "1.Write a Python Program to implement your own myreduce() function which works exactly like\n",
    "Python's built-in function reduce()"
   ]
  },
  {
   "cell_type": "code",
   "execution_count": 38,
   "metadata": {},
   "outputs": [
    {
     "name": "stdout",
     "output_type": "stream",
     "text": [
      "Sum of all elements in the a_list : 14.15\n",
      "Subtraction of all elements in a_list : -11.15\n"
     ]
    }
   ],
   "source": [
    "def myreduce(fnc, a_list):\n",
    "    x = a_list[0]\n",
    "    \n",
    "    for y in range(1, len(a_list)):\n",
    "        x = fnc(x, a_list[y])\n",
    "    \n",
    "    return x\n",
    "\n",
    "def add(x1, x2):\n",
    "    return x1 + x2\n",
    "\n",
    "def subt(x1, x2):\n",
    "    return(x1 - x2)\n",
    "\n",
    "i = [1.5, 3, 2, 7, 0.65]\n",
    "\n",
    "print('Sum of all elements in the a_list :', myreduce(add, i))\n",
    "print('Subtraction of all elements in a_list :', myreduce(subt,i))"
   ]
  },
  {
   "cell_type": "markdown",
   "metadata": {},
   "source": [
    "2.Write a Python program to implement your own myfilter() function which works exactly like\n",
    "Python's built-in function filter()"
   ]
  },
  {
   "cell_type": "code",
   "execution_count": 39,
   "metadata": {},
   "outputs": [
    {
     "name": "stdout",
     "output_type": "stream",
     "text": [
      "[1, 5, 9, 25, 123]\n",
      "[6, 60, 56, 2]\n"
     ]
    }
   ],
   "source": [
    "def myfilter(fnc, a_list):\n",
    "    a = []\n",
    "    b = []\n",
    "    \n",
    "    for i in a_list:\n",
    "        a.append(fnc(i))\n",
    "    \n",
    "    for i in range(0, len(a)):\n",
    "        \n",
    "        if a[i] == False:\n",
    "            continue\n",
    "        else:\n",
    "            b.append(a[i])\n",
    "    return b\n",
    "        \n",
    "def odd_no(i):\n",
    "    \n",
    "    if i%2!=0:\n",
    "        return i\n",
    "    else:\n",
    "        return False\n",
    "\n",
    "def even_no(i):\n",
    "    if i%2==0:\n",
    "        return i\n",
    "    else:\n",
    "        return False\n",
    "\n",
    "print(myfilter(odd_no, [1,4,5,30,9,50,25,123,150]))\n",
    "print(myfilter(even_no,[3,6,9,67,35,60,56,45,21,1,2]))"
   ]
  },
  {
   "cell_type": "markdown",
   "metadata": {},
   "source": [
    "3.Implement List comprehensions to produce the following lists.\n",
    "  Write List comprehensions to produce the following Lists\n",
    "  ['A', 'C', 'A', 'D', 'G', 'I', ’L’, ‘ D’]\n",
    "  ['x', 'xx', 'xxx', 'xxxx', 'y', 'yy', 'yyy', 'yyyy', 'z', 'zz', 'zzz', 'zzzz']\n",
    "  ['x', 'y', 'z', 'xx', 'yy', 'zz', 'xx', 'yy', 'zz', 'xxxx', 'yyyy', 'zzzz']\n",
    "  [[2], [3], [4], [3], [4], [5], [4], [5], [6]]\n",
    "  [[2, 3, 4, 5], [3, 4, 5, 6], [4, 5, 6, 7], [5, 6, 7, 8]]\n",
    "  [(1, 1), (2, 1), (3, 1), (1, 2), (2, 2), (3, 2), (1, 3), (2, 3), (3, 3)]\n"
   ]
  },
  {
   "cell_type": "code",
   "execution_count": 40,
   "metadata": {},
   "outputs": [
    {
     "name": "stdout",
     "output_type": "stream",
     "text": [
      "['A', 'C', 'A', 'D', 'G', 'I', 'L', 'D']\n",
      "['x', 'xx', 'xxx', 'xxxx', 'y', 'yy', 'yyy', 'yyyy', 'z', 'zz', 'zzz', 'zzzz']\n",
      "['x', 'y', 'z', 'xx', 'yy', 'zz', 'xxx', 'yyy', 'zzz', 'xxxx', 'yyyy', 'zzzz']\n",
      "[[2], [3], [4], [3], [4], [5], [4], [5], [6]]\n",
      "[[2, 3, 4, 5], [3, 4, 5, 6], [4, 5, 6, 7], [5, 6, 7, 8]]\n",
      "[(1, 1), (2, 1), (3, 1), (1, 2), (2, 2), (3, 2), (1, 3), (2, 3), (3, 3)]\n"
     ]
    }
   ],
   "source": [
    "a = [x for x in 'ACADGILD']\n",
    "print(a)\n",
    "\n",
    "b = [i * j for j in ['x', 'y', 'z'] for i in range(1, 5)]\n",
    "print(b)\n",
    "\n",
    "c = [i * j for j in range(1, 5) for i in ['x', 'y', 'z']]\n",
    "print(c)\n",
    "\n",
    "d = [[i + j] for j in [0, 1, 2] for i in range(2, 5)]\n",
    "print(d)\n",
    "\n",
    "e = [[i + j for j in [0, 1, 2, 3]] for i in range(2, 6)]\n",
    "print(e)\n",
    "\n",
    "f = [(i,j) for j in [1, 2, 3] for i in [1, 2, 3]]\n",
    "print(f)"
   ]
  },
  {
   "cell_type": "markdown",
   "metadata": {},
   "source": [
    "4.Implement a function longestWord() that takes a list of words and returns the longest one."
   ]
  },
  {
   "cell_type": "code",
   "execution_count": 41,
   "metadata": {},
   "outputs": [
    {
     "name": "stdout",
     "output_type": "stream",
     "text": [
      "Entertaining\n"
     ]
    }
   ],
   "source": [
    "def longestWord(words_list):\n",
    "    word_len = []\n",
    "    for x in words_list:\n",
    "        word_len.append((len(x), x))\n",
    "    word_len.sort()\n",
    "    return word_len[-1][1]\n",
    "\n",
    "print(longestWord(['Hello', 'Beautiful', 'Handsome','Entertaining','Management']))\n"
   ]
  },
  {
   "cell_type": "markdown",
   "metadata": {},
   "source": [
    "## Task 2:"
   ]
  },
  {
   "cell_type": "markdown",
   "metadata": {},
   "source": [
    "1.Write a Python Program(with class concepts) to find the area of the triangle using the below\n",
    "formula.\n",
    "area = (s*(s-a)*(s-b)*(s-c)) ** 0.5\n",
    "Function to take the length of the sides of triangle from user should be defined in the parent\n",
    "class and function to calculate the area should be defined in subclass."
   ]
  },
  {
   "cell_type": "code",
   "execution_count": 42,
   "metadata": {},
   "outputs": [
    {
     "name": "stdout",
     "output_type": "stream",
     "text": [
      "14.696938456699069\n"
     ]
    }
   ],
   "source": [
    "class Polygon1:\n",
    "\n",
    "    def __init__(self, n):\n",
    "        self.no_of_sides = n\n",
    "     \n",
    "class Tri(Polygon1):\n",
    "\n",
    "    def __init__(self, len_of_sides):\n",
    "        Polygon1.__init__(self, 3)\n",
    "        self.len_of_sides = len_of_sides  \n",
    "\n",
    "    def area(self):\n",
    "        a, b, c = self.len_of_sides\n",
    "        s = (a + b + c) / 2\n",
    "        return (s*(s-a)*(s-b)*(s-c)) ** 0.5\n",
    "    \n",
    "\n",
    "tri = Tri([5, 6, 7])\n",
    "print(tri.area())"
   ]
  },
  {
   "cell_type": "markdown",
   "metadata": {},
   "source": [
    "2.Write a function filter_long_words() that takes a list of words and an integer n and returns the list\n",
    "of words that are longer than n."
   ]
  },
  {
   "cell_type": "code",
   "execution_count": 43,
   "metadata": {},
   "outputs": [
    {
     "data": {
      "text/plain": [
       "['something', 'cuttack']"
      ]
     },
     "execution_count": 43,
     "metadata": {},
     "output_type": "execute_result"
    }
   ],
   "source": [
    "def filter_long_words(words, n):\n",
    "    return filter(lambda x: len(x) > n, words)\n",
    "\n",
    "\n",
    "list(filter_long_words(['yes', 'no', 'something','cuttack'], 5))"
   ]
  },
  {
   "cell_type": "markdown",
   "metadata": {},
   "source": [
    "3.Write a Python program using function concept that maps list of words into a list of integers\n",
    "representing the lengths of the corresponding words."
   ]
  },
  {
   "cell_type": "code",
   "execution_count": 44,
   "metadata": {},
   "outputs": [
    {
     "name": "stdout",
     "output_type": "stream",
     "text": [
      "[4, 5, 3]\n"
     ]
    }
   ],
   "source": [
    "def map_to_list(words):\n",
    "    return [len(x) for x in words]\n",
    "\n",
    "\n",
    "if __name__ == '__main__':\n",
    "    words = ['jack', 'hason', 'son']\n",
    "    print(map_to_list(words))"
   ]
  },
  {
   "cell_type": "markdown",
   "metadata": {},
   "source": [
    "4.Write a Python function which takes a character (i.e. a string of length 1) and returns True if it is\n",
    "a vowel, False otherwise."
   ]
  },
  {
   "cell_type": "code",
   "execution_count": 45,
   "metadata": {},
   "outputs": [
    {
     "name": "stdout",
     "output_type": "stream",
     "text": [
      "False\n"
     ]
    }
   ],
   "source": [
    "def is_vowel(char):\n",
    "    list_vowels = ('a', 'e', 'i', 'o', 'u')\n",
    "    if char not in list_vowels:\n",
    "        return False\n",
    "    return True\n",
    "\n",
    "\n",
    "if __name__ == \"__main__\":\n",
    "    print(is_vowel('b'))"
   ]
  }
 ],
 "metadata": {
  "kernelspec": {
   "display_name": "Python 3",
   "language": "python",
   "name": "python3"
  },
  "language_info": {
   "codemirror_mode": {
    "name": "ipython",
    "version": 3
   },
   "file_extension": ".py",
   "mimetype": "text/x-python",
   "name": "python",
   "nbconvert_exporter": "python",
   "pygments_lexer": "ipython3",
   "version": "3.7.3"
  }
 },
 "nbformat": 4,
 "nbformat_minor": 2
}
